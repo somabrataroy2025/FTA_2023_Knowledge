{
 "cells": [
  {
   "cell_type": "markdown",
   "id": "720cc99d",
   "metadata": {},
   "source": [
    "## load main excel file & other imports"
   ]
  },
  {
   "cell_type": "code",
   "execution_count": 1,
   "id": "898361c6",
   "metadata": {},
   "outputs": [
    {
     "name": "stderr",
     "output_type": "stream",
     "text": [
      "d:\\My Work\\FTA_2023_Knowledge\\.fta\\Lib\\site-packages\\tqdm\\auto.py:21: TqdmWarning: IProgress not found. Please update jupyter and ipywidgets. See https://ipywidgets.readthedocs.io/en/stable/user_install.html\n",
      "  from .autonotebook import tqdm as notebook_tqdm\n"
     ]
    }
   ],
   "source": [
    "import pandas as pd\n",
    "import common as cm\n",
    "from common import Common\n",
    "from cypher import Cypher\n",
    "file_path = \"../data/FTA_2023_RawData_Knowledge_Graph.xlsx\"\n",
    "db_name='neo4j'\n",
    "objCommon = Common()\n",
    "objCypher = Cypher()"
   ]
  },
  {
   "cell_type": "code",
   "execution_count": null,
   "id": "07e3c481",
   "metadata": {},
   "outputs": [],
   "source": [
    "df_FTA_Region = pd.read_excel(file_path,sheet_name=cm.Sheet.FTA_Region.name)\n",
    "objCypher.mergeRegion(df=df_FTA_Region)"
   ]
  },
  {
   "cell_type": "code",
   "execution_count": null,
   "id": "5141c2f7",
   "metadata": {},
   "outputs": [],
   "source": [
    "df_FTA_Region_Contry = pd.read_excel(file_path,sheet_name=cm.Sheet.FTA_Country_Region.name)\n",
    "objCypher.mergeRegionCountry(df=df_FTA_Region_Contry)"
   ]
  },
  {
   "cell_type": "code",
   "execution_count": null,
   "id": "5b331289",
   "metadata": {},
   "outputs": [],
   "source": [
    "objCypher.createStaticDataSet()"
   ]
  },
  {
   "cell_type": "code",
   "execution_count": null,
   "id": "8a182206",
   "metadata": {},
   "outputs": [],
   "source": [
    "df_FTA_Count = pd.read_excel(file_path,sheet_name=cm.Sheet.FTA_Count.name)\n",
    "outPut = objCommon.transformDataFrame(df_FTA_Count)\n",
    "objCypher.mergeFTACount(df = outPut)"
   ]
  },
  {
   "cell_type": "code",
   "execution_count": 2,
   "id": "82254615",
   "metadata": {},
   "outputs": [],
   "source": [
    "df_FTA_Airport = pd.read_excel(file_path,sheet_name=cm.Sheet.FTA_Airport_State_Wise.name)\n",
    "outPutAP = objCommon.transformDataFrame(df_FTA_Airport)\n",
    "objCypher.mergeFTAAirport(outPutAP)"
   ]
  },
  {
   "cell_type": "code",
   "execution_count": null,
   "id": "7252baa0",
   "metadata": {},
   "outputs": [],
   "source": [
    "df_FTA_Gender = pd.read_excel(file_path,sheet_name=cm.Sheet.FTA_Gender_Wise.name)\n",
    "outputG = objCommon.transformDataFrame(df_FTA_Gender)\n",
    "objCypher.mergeFTAGender(outputG)"
   ]
  },
  {
   "cell_type": "code",
   "execution_count": null,
   "id": "a07a2ac3",
   "metadata": {},
   "outputs": [],
   "source": [
    "df_FTA_Age = pd.read_excel(file_path,sheet_name=cm.Sheet.FTA_Age_Wise.name)\n",
    "outputAge = objCommon.transformDataFrame(df_FTA_Age)\n",
    "objCypher.mergeFTAAgeWise(outputAge)"
   ]
  }
 ],
 "metadata": {
  "kernelspec": {
   "display_name": ".fta",
   "language": "python",
   "name": "python3"
  },
  "language_info": {
   "codemirror_mode": {
    "name": "ipython",
    "version": 3
   },
   "file_extension": ".py",
   "mimetype": "text/x-python",
   "name": "python",
   "nbconvert_exporter": "python",
   "pygments_lexer": "ipython3",
   "version": "3.13.7"
  }
 },
 "nbformat": 4,
 "nbformat_minor": 5
}
